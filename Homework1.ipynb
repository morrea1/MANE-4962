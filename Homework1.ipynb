{
  "nbformat": 4,
  "nbformat_minor": 0,
  "metadata": {
    "colab": {
      "provenance": [],
      "authorship_tag": "ABX9TyMEEx0vTBvh4md6K0ZJqo/J",
      "include_colab_link": true
    },
    "kernelspec": {
      "name": "python3",
      "display_name": "Python 3"
    },
    "language_info": {
      "name": "python"
    }
  },
  "cells": [
    {
      "cell_type": "markdown",
      "metadata": {
        "id": "view-in-github",
        "colab_type": "text"
      },
      "source": [
        "<a href=\"https://colab.research.google.com/github/morrea1/MANE-4962/blob/main/Homework1.ipynb\" target=\"_parent\"><img src=\"https://colab.research.google.com/assets/colab-badge.svg\" alt=\"Open In Colab\"/></a>"
      ]
    },
    {
      "cell_type": "markdown",
      "source": [
        "### Homework 1 - Alex Morreale"
      ],
      "metadata": {
        "id": "noK922FHQGzv"
      }
    },
    {
      "cell_type": "markdown",
      "source": [
        "## Question 1"
      ],
      "metadata": {
        "id": "CfsFWU20QMD-"
      }
    },
    {
      "cell_type": "code",
      "execution_count": 18,
      "metadata": {
        "colab": {
          "base_uri": "https://localhost:8080/"
        },
        "id": "GCCVQf2WQAx1",
        "outputId": "cf418214-96d5-4ba2-8508-93002350245d"
      },
      "outputs": [
        {
          "output_type": "stream",
          "name": "stdout",
          "text": [
            "Part A:\n",
            "5 features in x1, 4 features in x2\n",
            "\n",
            "Part B:\n",
            "x1: L1 = 26, L2 = 13.1909, Linf = 9\n",
            "x2: L1 = 98, L2 = 89.1628, Linf = 89\n"
          ]
        }
      ],
      "source": [
        "import numpy as np\n",
        "\n",
        "x1 = np.array([2, 3, 4, 8, 9])\n",
        "x2 = np.array([2, -3, -4, 89])\n",
        "\n",
        "l1x1 = np.sum(np.abs(x1))\n",
        "l1x2 = np.sum(np.abs(x2))\n",
        "\n",
        "l2x1 = np.sqrt(np.sum(x1**2))\n",
        "l2x2 = np.sqrt(np.sum(x2**2))\n",
        "\n",
        "linfx1 = np.max(np.abs(x1))\n",
        "linfx2 = np.max(np.abs(x2))\n",
        "\n",
        "print(\"Part A:\")\n",
        "print(\"{} features in x1, {} features in x2\".format(len(x1), len(x2)), end = '\\n\\n')\n",
        "\n",
        "\n",
        "print(\"Part B:\")\n",
        "print(\"x1: L1 = {}, L2 = {:.4f}, Linf = {}\". format(l1x1, l2x1, linfx1))\n",
        "print(\"x2: L1 = {}, L2 = {:.4f}, Linf = {}\". format(l1x2, l2x2, linfx2))"
      ]
    },
    {
      "cell_type": "markdown",
      "source": [
        "#Question 2"
      ],
      "metadata": {
        "id": "tS_B2lW3ShyS"
      }
    },
    {
      "cell_type": "code",
      "source": [
        "import numpy as np\n",
        "\n",
        "input_length = 1024 * 1024 *3\n",
        "output_length = 64 * 64 * 3\n",
        "\n",
        "w_length = output_length * input_length\n",
        "b_length = output_length\n",
        "\n",
        "print(\"Part A:\")\n",
        "print(\"Length of input vector x = {}\".format(input_length))\n",
        "\n",
        "print(\"Part B:\")\n",
        "print(\"Length of output vector y = {}\".format(output_length))\n",
        "\n",
        "print(\"Part C:\")\n",
        "print(\"Matrix W has {} elements. Vector b has {} elements.\".format(w_length, b_length))\n",
        "\n"
      ],
      "metadata": {
        "colab": {
          "base_uri": "https://localhost:8080/"
        },
        "id": "pPlYH4APSkaB",
        "outputId": "a6e0dcb6-02ee-467e-b25d-f79fbfa23023"
      },
      "execution_count": null,
      "outputs": [
        {
          "output_type": "stream",
          "name": "stdout",
          "text": [
            "Part A:\n",
            "Length of input vector x = 3145728\n",
            "Part B:\n",
            "Length of output vector y = 12288\n",
            "Part C:\n",
            "Matrix W has 38654705664 elements. Vector b has 12288 elements.\n"
          ]
        }
      ]
    },
    {
      "cell_type": "markdown",
      "source": [
        "# Question 3"
      ],
      "metadata": {
        "id": "46ZQB5yrYdSH"
      }
    },
    {
      "cell_type": "code",
      "source": [
        "import numpy as np\n",
        "\n",
        "w = np.array([[1, -1], [2, 0]])\n",
        "\n",
        "one_norm = np.sum(np.abs(w), axis=0).max()\n",
        "two_norm = np.linalg.norm(w, 2)\n",
        "inf_norm = np.sum(np.abs(w), axis = 1).max()\n",
        "frob_norm = np.linalg.norm(w, 'fro')\n",
        "\n",
        "print(\"1-norm = {}\".format(one_norm))\n",
        "print(\"2-norm = {:.4f}\".format(two_norm))\n",
        "print(\"infinity-norm = {}\".format(inf_norm))\n",
        "print(\"Frobenius norm = {:.4f}\".format(frob_norm))\n",
        "\n"
      ],
      "metadata": {
        "colab": {
          "base_uri": "https://localhost:8080/"
        },
        "id": "BkJOfmbwZ2YT",
        "outputId": "949bea90-ecfb-4187-fa7a-6729e781d038"
      },
      "execution_count": 19,
      "outputs": [
        {
          "output_type": "stream",
          "name": "stdout",
          "text": [
            "1-norm = 3\n",
            "2-norm = 2.2882\n",
            "infinity-norm = 2\n",
            "Frobenius norm = 2.4495\n"
          ]
        }
      ]
    },
    {
      "cell_type": "markdown",
      "source": [
        "# Question 4"
      ],
      "metadata": {
        "id": "yV5VLq_Gbzie"
      }
    },
    {
      "cell_type": "code",
      "source": [],
      "metadata": {
        "id": "4DWJIZkbb1nF"
      },
      "execution_count": null,
      "outputs": []
    },
    {
      "cell_type": "markdown",
      "source": [
        "# Queston 5"
      ],
      "metadata": {
        "id": "NNsGNghvb2B_"
      }
    },
    {
      "cell_type": "code",
      "source": [],
      "metadata": {
        "id": "4QV6xCbPb3w_"
      },
      "execution_count": null,
      "outputs": []
    },
    {
      "cell_type": "markdown",
      "source": [
        "# Question 6"
      ],
      "metadata": {
        "id": "YmMLT7Wwb4HX"
      }
    },
    {
      "cell_type": "code",
      "source": [],
      "metadata": {
        "id": "XR-uU407b7OR"
      },
      "execution_count": null,
      "outputs": []
    },
    {
      "cell_type": "markdown",
      "source": [
        "# Question 7"
      ],
      "metadata": {
        "id": "7bShzEBjb7sM"
      }
    },
    {
      "cell_type": "code",
      "source": [],
      "metadata": {
        "id": "nldEYKdzb82Y"
      },
      "execution_count": null,
      "outputs": []
    }
  ]
}