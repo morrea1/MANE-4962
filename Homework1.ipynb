{
  "nbformat": 4,
  "nbformat_minor": 0,
  "metadata": {
    "colab": {
      "provenance": [],
      "authorship_tag": "ABX9TyOmCaVVXxQfQnAEVaSV1hbb",
      "include_colab_link": true
    },
    "kernelspec": {
      "name": "python3",
      "display_name": "Python 3"
    },
    "language_info": {
      "name": "python"
    }
  },
  "cells": [
    {
      "cell_type": "markdown",
      "metadata": {
        "id": "view-in-github",
        "colab_type": "text"
      },
      "source": [
        "<a href=\"https://colab.research.google.com/github/morrea1/MANE-4962/blob/main/Homework1.ipynb\" target=\"_parent\"><img src=\"https://colab.research.google.com/assets/colab-badge.svg\" alt=\"Open In Colab\"/></a>"
      ]
    },
    {
      "cell_type": "markdown",
      "source": [
        "### Homework 1\n",
        "### Alex Morreale"
      ],
      "metadata": {
        "id": "noK922FHQGzv"
      }
    },
    {
      "cell_type": "markdown",
      "source": [
        "## Question 1"
      ],
      "metadata": {
        "id": "CfsFWU20QMD-"
      }
    },
    {
      "cell_type": "code",
      "execution_count": 2,
      "metadata": {
        "colab": {
          "base_uri": "https://localhost:8080/"
        },
        "id": "GCCVQf2WQAx1",
        "outputId": "d29f024a-1db6-4a93-af8c-6ebcb3bae86f"
      },
      "outputs": [
        {
          "output_type": "stream",
          "name": "stdout",
          "text": [
            "hello test\n"
          ]
        }
      ],
      "source": [
        "print ('hello test')"
      ]
    },
    {
      "cell_type": "markdown",
      "source": [
        "#Question 2"
      ],
      "metadata": {
        "id": "tS_B2lW3ShyS"
      }
    },
    {
      "cell_type": "code",
      "source": [],
      "metadata": {
        "id": "pPlYH4APSkaB"
      },
      "execution_count": null,
      "outputs": []
    }
  ]
}